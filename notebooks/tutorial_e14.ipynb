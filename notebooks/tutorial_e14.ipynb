{
 "cells": [
  {
   "cell_type": "code",
   "outputs": [],
   "source": [
    "import scanpy as sc\n",
    "\n",
    "from gene_trajectories.run_dm import run_dm\n",
    "from gene_trajectories.get_graph_distance import get_graph_distance\n",
    "from gene_trajectories.coarse_grain import select_top_genes, coarse_grain_adata\n",
    "from gene_trajectories.extract_gene_trajectory import get_gene_embedding\n",
    "from gene_trajectories.extract_gene_trajectory import extract_gene_trajectory\n"
   ],
   "metadata": {
    "collapsed": false
   },
   "id": "ad667e5b270aa0f0",
   "execution_count": null
  },
  {
   "cell_type": "code",
   "outputs": [],
   "source": [
    "adata = sc.read_h5ad('/Users/fra/bioinfo/IGT/e14_init.h5ad')\n"
   ],
   "metadata": {
    "collapsed": false
   },
   "id": "1ef9fa20eef8cacd",
   "execution_count": null
  },
  {
   "cell_type": "code",
   "outputs": [],
   "source": [
    "sc.pl.umap(adata, color=[\"orig.ident\", \"cell_type\"])"
   ],
   "metadata": {
    "collapsed": false
   },
   "id": "2939b2a9b436b69",
   "execution_count": null
  },
  {
   "cell_type": "code",
   "outputs": [],
   "source": [
    "assert 'X_dm' not in adata.obsm"
   ],
   "metadata": {
    "collapsed": false
   },
   "id": "99918360dbfce46e",
   "execution_count": null
  },
  {
   "cell_type": "code",
   "outputs": [],
   "source": [
    "run_dm(adata)"
   ],
   "metadata": {
    "collapsed": false
   },
   "id": "83b7b3415fa4be72",
   "execution_count": null
  },
  {
   "cell_type": "code",
   "outputs": [],
   "source": [
    "assert adata.obsm['X_dm'].shape == (10328, 30)"
   ],
   "metadata": {
    "collapsed": false
   },
   "id": "8232f3bbb445a994",
   "execution_count": null
  },
  {
   "cell_type": "code",
   "outputs": [],
   "source": [
    "cell_graph_dist = get_graph_distance(adata, k=10)"
   ],
   "metadata": {
    "collapsed": false
   },
   "id": "e1f571a7d9a8780",
   "execution_count": null
  },
  {
   "cell_type": "code",
   "outputs": [],
   "source": [
    "if 'counts' not in adata.layers:\n",
    "    adata.layers['counts']=adata.raw.X.copy()"
   ],
   "metadata": {
    "collapsed": false
   },
   "id": "95717ffaefb0d104",
   "execution_count": null
  },
  {
   "cell_type": "code",
   "outputs": [],
   "source": [
    "genes = select_top_genes(adata, layer='counts')"
   ],
   "metadata": {
    "collapsed": false
   },
   "id": "ccebfb16f3c95580",
   "execution_count": null
  },
  {
   "cell_type": "code",
   "outputs": [],
   "source": [
    "assert len(genes) == 1177"
   ],
   "metadata": {
    "collapsed": false
   },
   "id": "cdf887a12d02a6f5",
   "execution_count": null
  },
  {
   "cell_type": "code",
   "outputs": [],
   "source": [
    "gene_expression_updated, graph_dist_updated = coarse_grain_adata(adata, graph_dist=cell_graph_dist, features=genes, dims=10)"
   ],
   "metadata": {
    "collapsed": false
   },
   "id": "2448c30800980a71",
   "execution_count": null
  },
  {
   "cell_type": "code",
   "outputs": [],
   "source": [
    "from gene_trajectories.gene_distance_shared import cal_ot_mat\n",
    "\n",
    "\n",
    "gene_dist_mat = cal_ot_mat(gene_expr=gene_expression_updated, ot_cost=graph_dist_updated, \n",
    "                 show_progress_bar=True)"
   ],
   "metadata": {
    "collapsed": false
   },
   "id": "350f120bd0675a5e",
   "execution_count": null
  },
  {
   "cell_type": "code",
   "outputs": [],
   "source": [
    "assert gene_dist_mat.shape == (1177, 1177)"
   ],
   "metadata": {
    "collapsed": false
   },
   "id": "868e5a6cd164cd6a",
   "execution_count": null
  },
  {
   "cell_type": "code",
   "outputs": [],
   "source": [
    "gene_dist_mat[:3,:3]"
   ],
   "metadata": {
    "collapsed": false
   },
   "id": "89bfc1c3bb22e5a1",
   "execution_count": null
  },
  {
   "cell_type": "code",
   "outputs": [],
   "source": [
    "gm2[:3,:3]"
   ],
   "metadata": {
    "collapsed": false
   },
   "id": "7b441d70b5d30562",
   "execution_count": null
  },
  {
   "cell_type": "code",
   "outputs": [],
   "source": [
    "\n",
    "\n",
    "gene_embedding, _ = get_gene_embedding(gene_dist_mat, k = 5)\n"
   ],
   "metadata": {
    "collapsed": false
   },
   "id": "87bcd6d2e4d8e711",
   "execution_count": null
  },
  {
   "cell_type": "code",
   "outputs": [],
   "source": [
    "\n",
    "gene_trajectory = extract_gene_trajectory(gene_embedding, gene_dist_mat, gene_names=genes,\n",
    "                                          n = 3, t_list = [9,16,5], k = 5)\n"
   ],
   "metadata": {
    "collapsed": false
   },
   "id": "97eb8f8c99e52919",
   "execution_count": null
  },
  {
   "cell_type": "code",
   "outputs": [],
   "source": [
    "gene_trajectory"
   ],
   "metadata": {
    "collapsed": false
   },
   "id": "5693558bbe5ac93c",
   "execution_count": null
  },
  {
   "cell_type": "code",
   "outputs": [],
   "source": [],
   "metadata": {
    "collapsed": false
   },
   "id": "71aef96520b104c",
   "execution_count": null
  },
  {
   "cell_type": "code",
   "outputs": [],
   "source": [],
   "metadata": {
    "collapsed": false
   },
   "id": "de87b0e1510e8050"
  }
 ],
 "metadata": {
  "kernelspec": {
   "display_name": "Python 3",
   "language": "python",
   "name": "python3"
  },
  "language_info": {
   "codemirror_mode": {
    "name": "ipython",
    "version": 2
   },
   "file_extension": ".py",
   "mimetype": "text/x-python",
   "name": "python",
   "nbconvert_exporter": "python",
   "pygments_lexer": "ipython2",
   "version": "2.7.6"
  }
 },
 "nbformat": 4,
 "nbformat_minor": 5
}

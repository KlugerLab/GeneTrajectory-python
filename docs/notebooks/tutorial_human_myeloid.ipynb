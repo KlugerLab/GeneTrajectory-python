{
 "cells": [
  {
   "attachments": {},
   "cell_type": "markdown",
   "id": "d7ba339f-3d4e-48ac-8bfc-131fac250295",
   "metadata": {},
   "source": [
    "# Gene Trajectory Python tutorial: Human myeloid #\n",
    "\n",
    "GeneTrajectory is a method for inferring gene trajectories in scRNA-seq data, which facilitates understanding of gene dynamics underlying biological processes. The major workflow of GeneTrajectory comprises the following four main steps:\n",
    "\n",
    "- Step 1. Build a cell-cell kNN graph in which each cell is connected to its k-nearest neighbors. Find the shortest path connecting each pair of cells in the graph and denote its length as the graph distance between cells.\n",
    "- Step 2. Compute pairwise graph-based Wasserstein distance between gene distributions, which quantifies the minimum cost of transporting the distribution of a given gene into the distribution of another gene in the cell graph.\n",
    "- Step 3. Generate a low-dimensional representation of genes (using Diffusion Map by default) based on the gene-gene Wasserstein distance matrix. Identify gene trajectories in a sequential manner.\n",
    "- Step 4. Determine the order of genes along each gene trajectory.\n",
    "\n",
    "![GT_workflow.png](tutorial_images/GT_workflow.png)"
   ]
  },
  {
   "cell_type": "code",
   "id": "b0bd2942bbf6908a",
   "metadata": {
    "collapsed": false,
    "is_executing": true,
    "jupyter": {
     "outputs_hidden": false,
     "is_executing": true
    }
   },
   "source": [
    "import scanpy as sc\n",
    "\n",
    "from gene_trajectory.add_gene_bin_score import add_gene_bin_score\n",
    "from gene_trajectory.coarse_grain import select_top_genes, coarse_grain_adata\n",
    "from gene_trajectory.extract_gene_trajectory import get_gene_embedding, extract_gene_trajectory\n",
    "from gene_trajectory.get_graph_distance import get_graph_distance\n",
    "from gene_trajectory.gene_distance_shared import cal_ot_mat\n",
    "from gene_trajectory.run_dm import run_dm\n",
    "from gene_trajectory.plot.gene_trajectory_plots import plot_gene_trajectory_3d, plot_gene_trajectory_umap\n",
    "from gene_trajectory.util.download_file import download_file_if_missing"
   ],
   "outputs": [],
   "execution_count": null
  },
  {
   "cell_type": "code",
   "id": "5864f7352092fe2f",
   "metadata": {
    "collapsed": false,
    "is_executing": true,
    "jupyter": {
     "outputs_hidden": false,
     "is_executing": true
    }
   },
   "source": [
    "import warnings\n",
    "\n",
    "warnings.simplefilter(action='ignore', category=FutureWarning)\n",
    "warnings.simplefilter(action='ignore', category=UserWarning)"
   ],
   "outputs": [],
   "execution_count": null
  },
  {
   "cell_type": "markdown",
   "id": "af2bdc0a4bfc31f0",
   "metadata": {
    "collapsed": false,
    "jupyter": {
     "outputs_hidden": false
    }
   },
   "source": [
    "## Loading example data  ##\n",
    "The standard preprocessing can be done by employing the scanpy Python package which includes: \n",
    "library normalization; finding variable features; scaling; generating PCA embedding (and UMAP embedding for visualization).\n",
    "\n",
    "We load a preprocessed Scanpy Anndata object where we will perform the gene trajectory inference.\n",
    "\n",
    "First, we download the data from [figshare](https://figshare.com/articles/dataset/Processed_AnnData_objects_for_GeneTrajectory_inference_Gene_Trajectory_Inference_for_Single-cell_Data_by_Optimal_Transport_Metrics_/25539547), where a copy of the data needed for the tutorial is saved. \n"
   ]
  },
  {
   "cell_type": "code",
   "id": "d40406c2-75d0-4e7a-83a9-a520ab312437",
   "metadata": {
    "is_executing": true,
    "jupyter": {
     "is_executing": true
    }
   },
   "source": [
    "download_file_if_missing('tutorial_data/human_myeloid_scanpy_obj.h5ad', \n",
    "    url='https://figshare.com/ndownloader/files/45448603',  \n",
    "    md5_hash='923f8f00819e9f6401445af8d97275eb',\n",
    "    create_target_folder_if_missing=True)"
   ],
   "outputs": [],
   "execution_count": null
  },
  {
   "cell_type": "markdown",
   "id": "b178fe97-9ae4-4536-9a6b-1143651708d5",
   "metadata": {},
   "source": [
    "Once the file has been downloaded and saved to `tutorial_data/human_myeloid_scanpy_obj.h5ad`, we load the preprocessed Scanpy Anndata object where we will perform the gene trajectory inference."
   ]
  },
  {
   "cell_type": "code",
   "id": "70f60cec21c1bb67",
   "metadata": {
    "collapsed": false,
    "is_executing": true,
    "jupyter": {
     "outputs_hidden": false,
     "is_executing": true
    }
   },
   "source": [
    "adata = sc.read_h5ad('tutorial_data/human_myeloid_scanpy_obj.h5ad')"
   ],
   "outputs": [],
   "execution_count": null
  },
  {
   "cell_type": "markdown",
   "id": "90d1131b-9198-43d0-8d1d-99520b340135",
   "metadata": {},
   "source": [
    "Next, we add a `cell_type` annotation to the metadata based on the clustering labels and plot it in the UMAP representation"
   ]
  },
  {
   "cell_type": "code",
   "id": "899340c262a0fd20",
   "metadata": {
    "collapsed": false,
    "is_executing": true,
    "jupyter": {
     "outputs_hidden": false,
     "is_executing": true
    }
   },
   "source": [
    "adata.obs['cell_type'] = adata.obs['cluster'].replace({\n",
    "  0: \"CD14+ monocytes\",\n",
    "  1: \"Intermediate monocytes\",\n",
    "  2: \"CD16+ monocytes\",\n",
    "  3: \"Myeloid type-2 dendritic cells\"}\n",
    ")\n",
    "sc.pl.umap(adata, color=[\"cell_type\"])\n"
   ],
   "outputs": [],
   "execution_count": null
  },
  {
   "cell_type": "markdown",
   "id": "1a000a7c-09d0-4070-bf07-c5da92022c70",
   "metadata": {},
   "source": [
    "## Gene-gene distance computation ##\n",
    "We narrow down the gene list for gene-gene distance computation by focusing on the top 500 variable genes expressed by 1% - 50% of cells.\n",
    "\n"
   ]
  },
  {
   "cell_type": "code",
   "id": "5fc9e431-9832-4b15-9126-ab0dab3626e5",
   "metadata": {
    "is_executing": true,
    "jupyter": {
     "is_executing": true
    }
   },
   "source": [
    "if 'counts' not in adata.layers:\n",
    "    adata.layers['counts'] = adata.raw.X.copy()\n",
    "genes = select_top_genes(adata, layer='counts', n_variable_genes=500)\n"
   ],
   "outputs": [],
   "execution_count": null
  },
  {
   "cell_type": "code",
   "id": "a1c81c3f-1dc9-431a-893c-6104f3f70af0",
   "metadata": {
    "is_executing": true,
    "jupyter": {
     "is_executing": true
    }
   },
   "source": [
    "len(genes)"
   ],
   "outputs": [],
   "execution_count": null
  },
  {
   "cell_type": "markdown",
   "id": "09fd2d9d-7602-4087-9686-26863750faf6",
   "metadata": {},
   "source": [
    "## Prepare the input for gene-gene Wasserstein distance computation ##\n",
    "\n",
    "Next, we construct the cell-cell kNN graph and calculate cell-cell graph distances."
   ]
  },
  {
   "cell_type": "code",
   "id": "14d58e93-92e2-464c-98c1-8f594f98eb9f",
   "metadata": {
    "is_executing": true,
    "jupyter": {
     "is_executing": true
    }
   },
   "source": [
    "run_dm(adata)\n",
    "cell_graph_dist = get_graph_distance(adata, k=10)"
   ],
   "outputs": [],
   "execution_count": null
  },
  {
   "cell_type": "code",
   "id": "b669d46a-d7d5-4cd6-be70-607b585f79bf",
   "metadata": {
    "is_executing": true,
    "jupyter": {
     "is_executing": true
    }
   },
   "source": [
    "gene_expression_updated, graph_dist_updated = coarse_grain_adata(adata, graph_dist=cell_graph_dist, features=genes, n=500)"
   ],
   "outputs": [],
   "execution_count": null
  },
  {
   "cell_type": "code",
   "id": "319c2d1220bfe06",
   "metadata": {
    "collapsed": false,
    "is_executing": true,
    "jupyter": {
     "outputs_hidden": false,
     "is_executing": true
    }
   },
   "source": [
    "gene_dist_mat = cal_ot_mat(gene_expr=gene_expression_updated, \n",
    "                           ot_cost=graph_dist_updated, \n",
    "                           show_progress_bar=True)"
   ],
   "outputs": [],
   "execution_count": null
  },
  {
   "cell_type": "markdown",
   "id": "5f87c469-ce29-42bd-b922-d01a7636f1bb",
   "metadata": {},
   "source": [
    "## Gene trajectory inference and visualization ##\n",
    "\n",
    "Next, we generate the gene embedding by employing Diffusion Map."
   ]
  },
  {
   "cell_type": "code",
   "id": "160380e7-4436-4bd2-91cf-7ff9aa475c82",
   "metadata": {
    "is_executing": true,
    "jupyter": {
     "is_executing": true
    }
   },
   "source": [
    "gene_embedding, _ = get_gene_embedding(gene_dist_mat, k = 5)"
   ],
   "outputs": [],
   "execution_count": null
  },
  {
   "cell_type": "markdown",
   "id": "90c77c91-c1c6-442c-a5f7-c1d3adfc877b",
   "metadata": {},
   "source": [
    "The extraction of gene trajectories is done sequentially. The initial node (terminus-1) is defined by the gene with the largest distance from the origin in the Diffusion Map embedding. A random-walk procedure is then employed on the gene graph to select the other genes that belong to the trajectory terminated at terminus-1. After retrieving genes for the first trajectory, we identify the terminus of the subsequent gene trajectory among the remaining genes and repeat the steps above. This is done iteratively until all detectable trajectories are extracted:\n",
    "- n: the number of trajectories to extract;\n",
    "- t_list: the time step of random walk to extract each trajectory. Increasing each t extracts a longer trajectory.\n",
    "\n",
    "Here we use optimized parameters. To see how to optimize parameters with a Jupyter Widget, run the Jupyter notebook in [notebooks/tutorial_human_myeloid.ipynb](https://github.com/KlugerLab/GeneTrajectory-python/blob/main/notebooks/tutorial_human_myeloid.ipynb). \n"
   ]
  },
  {
   "cell_type": "code",
   "id": "08dad9fb-0c0e-4b08-a174-26352e520a45",
   "metadata": {
    "is_executing": true,
    "jupyter": {
     "is_executing": true
    }
   },
   "source": [
    "gene_trajectory = extract_gene_trajectory(gene_embedding, gene_dist_mat, t_list = [4, 8, 7], gene_names=genes, k=5)"
   ],
   "outputs": [],
   "execution_count": null
  },
  {
   "metadata": {},
   "cell_type": "markdown",
   "source": "Once the gene trajectories are extracted, we can plot them in a 3d plot and show labels for some genes that are important in the system (e.g. `CLEC5A`, `CD1C`, `FCGR3A`, and `PKIB`).",
   "id": "5348cfbd9ccb85a3"
  },
  {
   "cell_type": "code",
   "id": "7b53c47f-19a6-4860-a23f-0988ab91c49b",
   "metadata": {
    "is_executing": true,
    "jupyter": {
     "is_executing": true
    }
   },
   "source": "plot_gene_trajectory_3d(gene_trajectory, label_genes=['CLEC5A', 'CD1C', 'FCGR3A', 'PKIB'])",
   "outputs": [],
   "execution_count": null
  },
  {
   "cell_type": "markdown",
   "id": "756e9d62-2050-4040-9d3f-7747ae46e6ae",
   "metadata": {},
   "source": [
    "## Visualize gene bin plots ##\n",
    "\n",
    "To examine how each given gene trajectory is reflected over the cell graph, we can track how these genes are expressed across different regions in the cell embedding. \n",
    "For generating gene bin plots, we use the smooth expression values that are stored in the `alra` layer, which were computed using [ALRA](https://github.com/KlugerLab/ALRA/blob/master/README.md) imputation.\n"
   ]
  },
  {
   "cell_type": "code",
   "id": "6de2cf26-98b0-49e7-a2e2-93847bd7651c",
   "metadata": {
    "is_executing": true,
    "jupyter": {
     "is_executing": true
    }
   },
   "source": [
    "add_gene_bin_score(adata, gene_trajectory=gene_trajectory, n_bins=5, trajectories=3, layer='alra')"
   ],
   "outputs": [],
   "execution_count": null
  },
  {
   "cell_type": "code",
   "id": "a9a3b18e-202f-4833-889a-947485e8908a",
   "metadata": {
    "is_executing": true,
    "jupyter": {
     "is_executing": true
    }
   },
   "source": [
    "plot_gene_trajectory_umap(adata, 'Trajectory1', other_panels='cell_type')\n"
   ],
   "outputs": [],
   "execution_count": null
  },
  {
   "cell_type": "code",
   "id": "95c3fd1a-fb63-4b00-8e38-d138e725fc7b",
   "metadata": {
    "is_executing": true,
    "jupyter": {
     "is_executing": true
    }
   },
   "source": [
    "plot_gene_trajectory_umap(adata, 'Trajectory2', other_panels='cell_type')\n"
   ],
   "outputs": [],
   "execution_count": null
  },
  {
   "metadata": {},
   "cell_type": "markdown",
   "source": "We plot Trajectory 3 in reverse order as we want the gene `CLEC5A` to be at the end of the trajectory rather than at the beginning",
   "id": "43c4fe250640814f"
  },
  {
   "cell_type": "code",
   "id": "8ff7a82f-1f3b-4100-b874-dd9ed2766850",
   "metadata": {
    "is_executing": true,
    "jupyter": {
     "is_executing": true
    }
   },
   "source": "plot_gene_trajectory_umap(adata, 'Trajectory3', other_panels='cell_type', reverse=True)\n",
   "outputs": [],
   "execution_count": null
  }
 ],
 "metadata": {
  "kernelspec": {
   "display_name": "Python 3 (ipykernel)",
   "language": "python",
   "name": "python3"
  },
  "language_info": {
   "codemirror_mode": {
    "name": "ipython",
    "version": 3
   },
   "file_extension": ".py",
   "mimetype": "text/x-python",
   "name": "python",
   "nbconvert_exporter": "python",
   "pygments_lexer": "ipython3",
   "version": "3.11.9"
  }
 },
 "nbformat": 4,
 "nbformat_minor": 5
}

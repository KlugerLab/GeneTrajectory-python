{
 "cells": [
  {
   "cell_type": "code",
   "execution_count": null,
   "id": "ad667e5b270aa0f0",
   "metadata": {
    "collapsed": false
   },
   "outputs": [],
   "source": [
    "import scanpy as sc\n",
    "\n",
    "from gene_trajectory.add_gene_bin_score import add_gene_bin_score\n",
    "from gene_trajectory.coarse_grain import select_top_genes, coarse_grain_adata\n",
    "from gene_trajectory.extract_gene_trajectory import get_gene_embedding, extract_gene_trajectory\n",
    "from gene_trajectory.get_graph_distance import get_graph_distance\n",
    "from gene_trajectory.gene_distance_shared import cal_ot_mat\n",
    "from gene_trajectory.run_dm import run_dm\n",
    "from gene_trajectory.plot.gene_trajectory_plots import plot_gene_trajectory_3d, plot_gene_trajectory_umap\n",
    "from gene_trajectory.util.download_file import download_file_if_missing"
   ]
  },
  {
   "cell_type": "code",
   "execution_count": null,
   "id": "90154031b99dc752",
   "metadata": {
    "collapsed": false
   },
   "outputs": [],
   "source": [
    "import warnings\n",
    "warnings.simplefilter(action='ignore', category=FutureWarning)\n",
    "warnings.simplefilter(action='ignore', category=UserWarning)"
   ]
  },
  {
   "cell_type": "markdown",
   "id": "68cdfc436d3ba4fd",
   "metadata": {
    "collapsed": false
   },
   "source": [
    "# Gene Trajectory Python tutorial: Mouse dermal #\n",
    "\n",
    "The standard preprocessing can be done by employing the scanpy Python package which includes: \n",
    "library normalization; finding variable features; scaling; generating PCA embedding (and UMAP embedding for visualization).\n",
    "\n",
    "First, we download the data from [figshare](https://figshare.com/articles/dataset/Processed_AnnData_objects_for_GeneTrajectory_inference_Gene_Trajectory_Inference_for_Single-cell_Data_by_Optimal_Transport_Metrics_/25539547), where a copy of the data needed for the tutorial is saved. "
   ]
  },
  {
   "cell_type": "code",
   "execution_count": null,
   "id": "e0d99bc982c9c06b",
   "metadata": {
    "collapsed": false
   },
   "outputs": [],
   "source": [
    "download_file_if_missing('tutorial_data/mouse_dermal_scanpy_obj.h5ad', \n",
    "    url='https://figshare.com/ndownloader/files/45448612',  \n",
    "    md5_hash='1af2efd46499d9e1e45e83d6f2de891a',\n",
    "    create_target_folder_if_missing=True)"
   ]
  },
  {
   "cell_type": "markdown",
   "id": "2f9b7ba8097d0ddc",
   "metadata": {
    "collapsed": false
   },
   "source": [
    "Once the file has been downloaded and saved to `tutorial_data/mouse_dermal_scanpy_obj.h5ad`, we load the preprocessed Scanpy Anndata object where we will perform the gene trajectory inference."
   ]
  },
  {
   "cell_type": "code",
   "execution_count": null,
   "id": "1ef9fa20eef8cacd",
   "metadata": {
    "collapsed": false
   },
   "outputs": [],
   "source": [
    "adata = sc.read_h5ad('tutorial_data/mouse_dermal_scanpy_obj.h5ad')"
   ]
  },
  {
   "cell_type": "markdown",
   "id": "30b4a50de05d100f",
   "metadata": {
    "collapsed": false
   },
   "source": [
    "The data contains a precomputed UMAP and contains the following annotations\n",
    "- orig.ident: the original sample\n",
    "- cell_type: the cell type of each cell\n",
    "\n",
    "Next, we visualize the annotations on the UMAP using the plotting tools available in Scanpy"
   ]
  },
  {
   "cell_type": "code",
   "execution_count": null,
   "id": "2939b2a9b436b69",
   "metadata": {
    "collapsed": false
   },
   "outputs": [],
   "source": [
    "sc.pl.umap(adata, color=[\"orig.ident\", \"cell_type\"])"
   ]
  },
  {
   "cell_type": "markdown",
   "id": "483407caa3617d97",
   "metadata": {
    "collapsed": false
   },
   "source": [
    "## Gene trajectory analysis ##\n",
    "\n",
    "First, we construct the cell-cell kNN graph and calculate cell-cell graph distances. \n",
    "The the diffusion map calculated in the first step will be stored in `adata.obsm['X_dm']`, which will be later used to compute the `cell_graph_dist` matrix. "
   ]
  },
  {
   "cell_type": "code",
   "execution_count": null,
   "id": "83b7b3415fa4be72",
   "metadata": {
    "collapsed": false
   },
   "outputs": [],
   "source": [
    "run_dm(adata)\n",
    "cell_graph_dist = get_graph_distance(adata, k=10)"
   ]
  },
  {
   "cell_type": "markdown",
   "id": "4b70481e279eefd8",
   "metadata": {
    "collapsed": false
   },
   "source": [
    "We then narrow down the gene list for gene-gene distance computation by focusing on the top 2000 variable genes expressed by 1% - 50% of cells. The `select_top_genes` method requires a layer with count data. In this dataset, the counts are available in `adata.raw` and a copy is added as the 'counts' layer before running `select_top_genes`.\n",
    "Next, the number of cells is reduced by coarse-graining.  "
   ]
  },
  {
   "cell_type": "code",
   "execution_count": null,
   "id": "ccebfb16f3c95580",
   "metadata": {
    "collapsed": false
   },
   "outputs": [],
   "source": [
    "if 'counts' not in adata.layers:\n",
    "    adata.layers['counts'] = adata.raw.X.copy()\n",
    "genes = select_top_genes(adata, layer='counts')\n",
    "gene_expression_updated, graph_dist_updated = coarse_grain_adata(adata, graph_dist=cell_graph_dist, features=genes, dims=10)\n"
   ]
  },
  {
   "cell_type": "markdown",
   "id": "b93401a0d7f7ed74",
   "metadata": {
    "collapsed": false
   },
   "source": [
    "The gene-gene Wasserstein distance can then be computed. Note that the computation is computationally expensive and will take around 30-50 minutes on this dataset. "
   ]
  },
  {
   "cell_type": "code",
   "execution_count": null,
   "id": "350f120bd0675a5e",
   "metadata": {
    "collapsed": false
   },
   "outputs": [],
   "source": [
    "gene_dist_mat = cal_ot_mat(gene_expr=gene_expression_updated, ot_cost=graph_dist_updated, show_progress_bar=False)"
   ]
  },
  {
   "cell_type": "markdown",
   "id": "5cbf1f56732bac87",
   "metadata": {
    "collapsed": false
   },
   "source": [
    "When the computation is finished, `gene_dist_mat` will contain the EMD distance matrix. Gene trajectory identification and visualization can then be done using the following code."
   ]
  },
  {
   "cell_type": "code",
   "execution_count": null,
   "id": "c02564a6-0ea3-4ee0-922c-76c900878e03",
   "metadata": {},
   "outputs": [],
   "source": [
    "gene_embedding, _ = get_gene_embedding(gene_dist_mat, k = 5)"
   ]
  },
  {
   "cell_type": "code",
   "execution_count": null,
   "id": "8e28f73babe129de",
   "metadata": {
    "collapsed": false
   },
   "outputs": [],
   "source": [
    "gene_trajectory = extract_gene_trajectory(gene_embedding, gene_dist_mat, gene_names=genes,\n",
    "                                          t_list = [5, 5, 7], dims=10)\n",
    "plot_gene_trajectory_3d(gene_trajectory)"
   ]
  },
  {
   "cell_type": "markdown",
   "id": "146bb0f3bd2c1087",
   "metadata": {
    "collapsed": false
   },
   "source": [
    "To examine how each given gene trajectory is reflected over the cell graph, we can track how these genes are expressed across different regions in the cell embedding. Here, we have applied ALRA imputation to smooth the expression values for generating gene bin plots and the result is available in the `alra` layer.\n",
    "\n"
   ]
  },
  {
   "cell_type": "code",
   "execution_count": null,
   "id": "a30960a1c1bde42",
   "metadata": {
    "collapsed": false
   },
   "outputs": [],
   "source": [
    "add_gene_bin_score(adata, gene_trajectory=gene_trajectory, n_bins=7, trajectories=3, layer='alra')"
   ]
  },
  {
   "cell_type": "markdown",
   "id": "773ee03bb4628974",
   "metadata": {
    "collapsed": false
   },
   "source": [
    "After the gene bins are added, the trajectories can be visualized using the `plot_gene_trajectory_umap` function. We also add the `cell_type` panel to show that Trajectory 1 ends in DC cells. "
   ]
  },
  {
   "cell_type": "code",
   "execution_count": null,
   "id": "18bacd2b26665d3c",
   "metadata": {
    "collapsed": false
   },
   "outputs": [],
   "source": [
    "plot_gene_trajectory_umap(adata, 'Trajectory1', other_panels='cell_type')"
   ]
  },
  {
   "cell_type": "code",
   "execution_count": null,
   "id": "2fe6c2e2e91ac038",
   "metadata": {
    "collapsed": false
   },
   "outputs": [],
   "source": [
    "plot_gene_trajectory_umap(adata, 'Trajectory2', other_panels='cell_type')"
   ]
  },
  {
   "cell_type": "code",
   "execution_count": null,
   "id": "6c62e67d5aed787c",
   "metadata": {
    "collapsed": false
   },
   "outputs": [],
   "source": [
    "plot_gene_trajectory_umap(adata, 'Trajectory3', other_panels='cell_type')"
   ]
  },
  {
   "cell_type": "code",
   "outputs": [],
   "source": [],
   "metadata": {
    "collapsed": false
   },
   "id": "321120556a2cdc27"
  }
 ],
 "metadata": {
  "kernelspec": {
   "display_name": "Python 3 (ipykernel)",
   "language": "python",
   "name": "python3"
  },
  "language_info": {
   "codemirror_mode": {
    "name": "ipython",
    "version": 3
   },
   "file_extension": ".py",
   "mimetype": "text/x-python",
   "name": "python",
   "nbconvert_exporter": "python",
   "pygments_lexer": "ipython3",
   "version": "3.11.9"
  }
 },
 "nbformat": 4,
 "nbformat_minor": 5
}
